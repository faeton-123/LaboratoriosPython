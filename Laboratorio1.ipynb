{
 "cells": [
  {
   "attachments": {},
   "cell_type": "markdown",
   "metadata": {},
   "source": [
    "# **Laboratorio 2: Jupyter Notebooks, Markdown y Git**"
   ]
  },
  {
   "attachments": {},
   "cell_type": "markdown",
   "metadata": {},
   "source": [
    "### **Instrucciones**\n",
    "El entregable será un Jupyter Notebook conteniendo su ensayo acerca de Git, es decir cada uno entregará un resumen de lo que ha aprendido, conclusiones, comentarios y ejemplos propios(usados al momento de postear esta tarea en GitHub). Le recomendamos que para ejemplificar cualquier comando de Git pueden usar ”magic cells”, un tipo especial de celdas de jupyter que nos permite escribir comandos que no son de Python si no de nuestro sistema."
   ]
  },
  {
   "attachments": {},
   "cell_type": "markdown",
   "metadata": {},
   "source": [
    "### *Sobre GitHub*\n",
    "\n",
    "GitHub es una plataforma de desarrollo de software que ofrece una variedad de características y herramientas para la gestión de proyectos y el trabajo en equipo. Algunas de las características y usos más importantes de GitHub incluyen:\n",
    "\n",
    "1. Repositorios de código: GitHub permite a los desarrolladores alojar sus proyectos de software en repositorios de código, lo que permite el control de versiones, la colaboración en equipo y la revisión de código.\n",
    "\n",
    "2. Seguimiento de problemas: los usuarios pueden utilizar GitHub para reportar y realizar un seguimiento de los problemas y errores que encuentran en un proyecto, lo que permite a los desarrolladores identificar y solucionar problemas de manera más eficiente.\n",
    "\n",
    "3. Integración continua: GitHub permite la integración continua de proyectos de software, lo que permite la automatización de procesos como pruebas, compilación y despliegue.\n",
    "\n",
    "4. Control de acceso y permisos: los propietarios de proyectos pueden controlar el acceso y los permisos de los colaboradores, lo que permite una gestión más eficiente de los equipos de desarrollo.\n",
    "\n",
    "5. Colaboración en equipo: GitHub fomenta la colaboración en equipo a través de herramientas como solicitudes de extracción, revisión de código y discusiones.\n",
    "\n",
    "6. Comunidad de código abierto: GitHub es el hogar de una gran comunidad de desarrolladores de código abierto que comparten proyectos y trabajan juntos en el desarrollo de software.\n",
    "\n",
    "7. Integración con otras herramientas: GitHub se integra con una amplia variedad de herramientas y servicios de terceros, como Slack, JIRA y Trello, lo que permite una mayor productividad y eficiencia en el flujo de trabajo.\n",
    "\n",
    "En resumen, GitHub es una plataforma completa y altamente funcional que permite a los desarrolladores alojar, gestionar y colaborar en proyectos de software. Su amplia gama de herramientas y características lo convierten en una herramienta esencial para cualquier equipo de desarrollo de software moderno.\n",
    "\n",
    "Hay varios comandos en GitHub que son comúnmente usados por los desarrolladores para trabajar con repositorios de código y colaborar en proyectos en equipo. Algunos de los comandos más usados en GitHub incluyen"
   ]
  },
  {
   "attachments": {},
   "cell_type": "markdown",
   "metadata": {},
   "source": [
    "1. *Clonar un repositorio*: Este comando clona un repositorio remoto en una máquina local."
   ]
  },
  {
   "cell_type": "code",
   "execution_count": null,
   "metadata": {
    "vscode": {
     "languageId": "shellscript"
    }
   },
   "outputs": [],
   "source": [
    "git clone https://github.com/usuario/nombre-repositorio.git\n"
   ]
  },
  {
   "attachments": {},
   "cell_type": "markdown",
   "metadata": {},
   "source": [
    "2. *Hacer cambios en el repositorio:* Estos comandos agregan los cambios realizados en los archivos \"archivo1\" y \"archivo2\" al índice, y luego los confirman con un mensaje descriptivo."
   ]
  },
  {
   "cell_type": "code",
   "execution_count": null,
   "metadata": {
    "vscode": {
     "languageId": "shellscript"
    }
   },
   "outputs": [],
   "source": [
    "git add archivo1 archivo2\n",
    "git commit -m \"mensaje descriptivo\""
   ]
  },
  {
   "attachments": {},
   "cell_type": "markdown",
   "metadata": {},
   "source": [
    "3. *Subir los cambios al repositorio remoto:* Este comando envía los cambios confirmados en la rama especificada al repositorio remoto."
   ]
  },
  {
   "cell_type": "code",
   "execution_count": null,
   "metadata": {
    "vscode": {
     "languageId": "shellscript"
    }
   },
   "outputs": [],
   "source": [
    "git push origin nombre-rama"
   ]
  },
  {
   "attachments": {},
   "cell_type": "markdown",
   "metadata": {},
   "source": [
    "4. *Obtener cambios más recientes del repositorio remoto:* Este comando obtiene los cambios más recientes del repositorio remoto en la rama especificada y los fusiona con los cambios locales."
   ]
  },
  {
   "cell_type": "code",
   "execution_count": null,
   "metadata": {
    "vscode": {
     "languageId": "shellscript"
    }
   },
   "outputs": [],
   "source": [
    "git pull origin nombre-rama"
   ]
  },
  {
   "attachments": {},
   "cell_type": "markdown",
   "metadata": {},
   "source": [
    "![la imagen](git.PNG)"
   ]
  }
 ],
 "metadata": {
  "kernelspec": {
   "display_name": "base",
   "language": "python",
   "name": "python3"
  },
  "language_info": {
   "name": "python",
   "version": "3.9.13"
  },
  "orig_nbformat": 4
 },
 "nbformat": 4,
 "nbformat_minor": 2
}
