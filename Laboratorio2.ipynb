{
 "cells": [
  {
   "attachments": {},
   "cell_type": "markdown",
   "metadata": {},
   "source": [
    "# **Laboratorio 2: Programacion y Sintaxis**"
   ]
  },
  {
   "attachments": {},
   "cell_type": "markdown",
   "metadata": {},
   "source": [
    "### **Ejercicio 1.**\n",
    "Hacer un programa que reciba de parametro un número de segundos y despliegue en pantalla, las horas, minutos y segundos que representan"
   ]
  },
  {
   "cell_type": "code",
   "execution_count": 159,
   "metadata": {},
   "outputs": [
    {
     "name": "stdout",
     "output_type": "stream",
     "text": [
      "las horas son 1, los minutos son 56 y los segundos 40\n"
     ]
    }
   ],
   "source": [
    "try:\n",
    "    numero = int(input(\"Ingrese un número de segundos, debe ser entero positivo: \"))\n",
    "    if (numero >= 0):\n",
    "        hora = numero//3600 #la hora es la parte entera de la division\n",
    "        minuto = (numero - (3600*hora))//60 # los minutos son la parte entere de la division por 3600 menos el numero ingresado, ese valor \n",
    "                                            # se divide entre 60 y se toma la parte entera que equivale al numero de minutos.\n",
    "        segundo =(numero- ((minuto*60) + (hora*3600)))\n",
    "        print(\"las horas son {}, los minutos son {} y los segundos {}\".format(hora, minuto, segundo))\n",
    "    else:\n",
    "        print(\"el número no es entero positivo\")\n",
    "except ValueError as ex: \n",
    "    print(\"Debe ingresar numeros y no letras\")\n",
    "    print(ex)\n"
   ]
  },
  {
   "attachments": {},
   "cell_type": "markdown",
   "metadata": {},
   "source": [
    "### **Ejercicio 2.**\n",
    "Haga un funcion en python que dado el número entre 1 y 20 y un caracter cualquiera, despliegue cuatro patrones triangulares"
   ]
  },
  {
   "cell_type": "code",
   "execution_count": 55,
   "metadata": {},
   "outputs": [
    {
     "name": "stdout",
     "output_type": "stream",
     "text": [
      "#        ####   ####   #\n",
      "##        ###   ###    ##\n",
      "###        ##   ##     ###\n",
      "####        #   #      ####\n"
     ]
    }
   ],
   "source": [
    "numero = int(input(\"Ingrese un número entre 1 y 20: \"))\n",
    "caracter = (input(\"Ingrese un caracter cualquiera: \"))\n",
    "if((numero >= 1) and (numero <=20)):\n",
    "    print(\"{}        {}{}{}{}   {}{}{}{}   {}\".format(caracter,caracter,caracter,caracter,caracter,caracter,caracter,caracter,caracter,caracter))\n",
    "    print(\"{}{}        {}{}{}   {}{}{}    {}{}\".format(caracter,caracter,caracter,caracter,caracter,caracter,caracter,caracter,caracter,caracter))\n",
    "    print(\"{}{}{}        {}{}   {}{}     {}{}{}\".format(caracter,caracter,caracter,caracter,caracter,caracter,caracter,caracter,caracter,caracter))\n",
    "    print(\"{}{}{}{}        {}   {}      {}{}{}{}\".format(caracter,caracter,caracter,caracter,caracter,caracter,caracter,caracter,caracter,caracter))\n",
    "else:\n",
    "    print(\"el numero esta fuera de rango\")"
   ]
  },
  {
   "attachments": {},
   "cell_type": "markdown",
   "metadata": {},
   "source": [
    "### **Ejercicio 3.**\n",
    "Hacer un programa que solicite la fecha de nacimientos, por dia, mes, año y cada valor ingrese por separado"
   ]
  },
  {
   "cell_type": "code",
   "execution_count": 157,
   "metadata": {},
   "outputs": [
    {
     "name": "stdout",
     "output_type": "stream",
     "text": [
      "35 años, 10 meses y 1 días\n"
     ]
    }
   ],
   "source": [
    "from datetime import datetime\n",
    "from dateutil.relativedelta import relativedelta\n",
    "\n",
    "dia = int(input(\"Ingrese el dia de su cumpleaños: \"))\n",
    "mes = int(input(\"Ingrese el mes de su cumpleaños: \"))\n",
    "año = int(input(\"Ingrese el año de su cumpleaños: \"))\n",
    "\n",
    "edad = relativedelta(datetime.now(), datetime(año, mes, dia))\n",
    "print(f\"{edad.years} años, {edad.months} meses y {edad.days} días\")"
   ]
  },
  {
   "attachments": {},
   "cell_type": "markdown",
   "metadata": {},
   "source": [
    "### **Ejercicio 4.** \n",
    "Escriba una funcion en Python que dada una tupla de elementos (número o letras) esta se convierta a un string"
   ]
  },
  {
   "cell_type": "code",
   "execution_count": 110,
   "metadata": {},
   "outputs": [],
   "source": [
    "def convertTuple(tuples):\n",
    "       \n",
    "    str = ''\n",
    "    for item in tuples:\n",
    "        str = str + item\n",
    "    return str\n"
   ]
  },
  {
   "cell_type": "code",
   "execution_count": 127,
   "metadata": {},
   "outputs": [
    {
     "name": "stdout",
     "output_type": "stream",
     "text": [
      "0q2h1\n"
     ]
    }
   ],
   "source": [
    "tuples = ('0', 'q', '2', 'h', '1')\n",
    "str = convertTuple(tuples)\n",
    "print(str)"
   ]
  },
  {
   "attachments": {},
   "cell_type": "markdown",
   "metadata": {},
   "source": [
    "### **Ejercicio 5.**\n",
    "Cree un programa que dada una  lista de tuplas, elimine las tuplas que están vacías."
   ]
  },
  {
   "cell_type": "code",
   "execution_count": 18,
   "metadata": {},
   "outputs": [
    {
     "name": "stdout",
     "output_type": "stream",
     "text": [
      "['X', ('a', 'b'), ('a', 'b', 'c'), 'd']\n"
     ]
    }
   ],
   "source": [
    "miLista2=[(),(),(), (),('X'),('a','b'),('a','b','c'),('d')]\n",
    "res = list(filter(None, miLista2))\n",
    "print(res)\n",
    " \n"
   ]
  },
  {
   "attachments": {},
   "cell_type": "markdown",
   "metadata": {},
   "source": [
    "### **Ejercicio 6:**\n",
    "Crear una funcion en Python que dada una tupla de tuplas con números, produzca una tupla con el promedio de cada tupla individual."
   ]
  },
  {
   "cell_type": "code",
   "execution_count": 1,
   "metadata": {},
   "outputs": [
    {
     "name": "stdout",
     "output_type": "stream",
     "text": [
      "(10.5, 44.0, 58.0)\n"
     ]
    }
   ],
   "source": [
    "tuplas = ((10,10,10,12),(30,45,56,45),(81,80,39,32))\n",
    "suma0 = 0\n",
    "suma1 = 0\n",
    "suma2 = 0\n",
    "for valor in tuplas[0]:\n",
    "    suma0 += valor\n",
    "a=suma0/len(tuplas[0])\n",
    "\n",
    "for valor in tuplas[1]:\n",
    "    suma1 += valor\n",
    "b=suma1/len(tuplas[1])\n",
    "\n",
    "for valor in tuplas[2]:\n",
    "    suma2 += valor\n",
    "c=suma2/len(tuplas[2])\n",
    "nuevatupla=(a,b,c)\n",
    "\n",
    "print(nuevatupla)\n"
   ]
  },
  {
   "attachments": {},
   "cell_type": "markdown",
   "metadata": {},
   "source": [
    "### **Ejercicio 7.**\n",
    "\n",
    "Escribir un programa que gestione las facturas pendientes de cobro de una empresa. Las facturas se almacenarán en un diccionario donde la llave de cada factura será el número de factura (debe utilizar un numero de 4 dígitos) y el valor el coste de la factura. El programa debe preguntar al usuario si quiere añadir una nueva factura, pagar una existente o terminar. Si desea añadir una nueva factura se preguntará por el número de factura y su coste y se añadirá al diccionario, para confirmar que la factura se ingreso correctamente el programa debe desplegar el diccionario completo. Si se desea pagar una factura se preguntará por el número de factura y se eliminará del diccionario. Después de cada operación el programa debe mostrar en pantalla la cantidad cobrada hasta el momento y la cantidad pendiente de cobro. Puede utilizar otras estructuras de datos como apoyo si lo considera necesario.\n"
   ]
  },
  {
   "cell_type": "code",
   "execution_count": 228,
   "metadata": {},
   "outputs": [
    {
     "name": "stdout",
     "output_type": "stream",
     "text": [
      "\n",
      "--- Menú ---\n",
      "1. Agregar factura\n",
      "2. Pagar factura\n",
      "3. Terminar\n",
      "\n",
      "Facturas pendientes:\n",
      "{'0001': 300.0}\n",
      "\n",
      "Resumen: Total cobrado: $300.00 | Total pendiente: $300.00\n",
      "\n",
      "--- Menú ---\n",
      "1. Agregar factura\n",
      "2. Pagar factura\n",
      "3. Terminar\n",
      "\n",
      "Se pagó la factura 0001 por $300.00.\n",
      "\n",
      "Facturas pendientes:\n",
      "{}\n",
      "\n",
      "Resumen: Total cobrado: $0.00 | Total pendiente: $0.00\n",
      "\n",
      "--- Menú ---\n",
      "1. Agregar factura\n",
      "2. Pagar factura\n",
      "3. Terminar\n",
      "\n",
      "Facturas pendientes:\n",
      "{'0001': 100.0}\n",
      "\n",
      "Resumen: Total cobrado: $100.00 | Total pendiente: $100.00\n",
      "\n",
      "--- Menú ---\n",
      "1. Agregar factura\n",
      "2. Pagar factura\n",
      "3. Terminar\n",
      "\n",
      "Facturas pendientes:\n",
      "{'0001': 100.0, '0002': 100.0}\n",
      "\n",
      "Resumen: Total cobrado: $200.00 | Total pendiente: $200.00\n",
      "\n",
      "--- Menú ---\n",
      "1. Agregar factura\n",
      "2. Pagar factura\n",
      "3. Terminar\n",
      "Fin del programa.\n"
     ]
    }
   ],
   "source": [
    "facturas_pendientes = {} #se crea diccionario vacio\n",
    "\n",
    "def mostrar_resumen():\n",
    "    total_cobrado = sum(facturas_pendientes.values())\n",
    "    total_pendiente = 0 if not facturas_pendientes else sum(facturas_pendientes.values())\n",
    "    print(f\"\\nResumen: Total cobrado: ${total_cobrado:.2f} | Total pendiente: ${total_pendiente:.2f}\") # :.2f redondea a 2 decimales\n",
    "\n",
    "def agregar_factura():\n",
    "    while True:\n",
    "        num_factura = input(\"Ingrese el número de la factura (solo pueden ser 4 digitos): \")\n",
    "        if len(num_factura) != 4 or not num_factura.isdigit(): #isdigit para verificar que todos los valores son digitos\n",
    "            print(\"El número de factura no es de 4 dígitos.\")\n",
    "        elif num_factura in facturas_pendientes:\n",
    "            print(\"Esta número de factura ya ha sido ingresado.\")\n",
    "        else:\n",
    "            break\n",
    "    monto = float(input(\"Ingrese el monto total de la factura: \"))\n",
    "    facturas_pendientes[num_factura] = monto\n",
    "    print(\"\\nFacturas pendientes:\")\n",
    "    print(facturas_pendientes)\n",
    "\n",
    "def pagar_factura():\n",
    "    num_factura = input(\"Ingrese el número de factura a pagar: \")\n",
    "    if num_factura in facturas_pendientes:\n",
    "        monto = facturas_pendientes.pop(num_factura)\n",
    "        print(f\"\\n Se pagó la factura {num_factura} por ${monto:.2f}.\") #isdigit para verificar que todos los valores son digitos\n",
    "    else:\n",
    "        print(f\"No se encontró la factura {num_factura}.\")\n",
    "    print(\"\\nFacturas pendientes:\") #\\n para una nueva linea\n",
    "    print(facturas_pendientes)\n",
    "\n",
    "while True:\n",
    "    print(\"\\n -- Menú de facturas --\") #\\n para una nueva linea\n",
    "    print(\"1. Agregar factura\")\n",
    "    print(\"2. Pagar factura\")\n",
    "    print(\"3. Terminar\")\n",
    "    opcion = input(\"Ingrese la opción deseada: \")\n",
    "    if opcion == \"1\":\n",
    "        agregar_factura()\n",
    "        mostrar_resumen()\n",
    "    elif opcion == \"2\":\n",
    "        pagar_factura()\n",
    "        mostrar_resumen()\n",
    "    elif opcion == \"3\":\n",
    "        print(\"Fin del programa.\")\n",
    "        break\n",
    "    else:\n",
    "        print(\"Opción inválida.\")\n"
   ]
  },
  {
   "attachments": {},
   "cell_type": "markdown",
   "metadata": {},
   "source": [
    "### **Ejercicio 8.** \n",
    "\n",
    "\n",
    "#### **(A)**\n",
    "Haga una función en Python, que creé un set con todas las cartas de una baraja de Pocker utilizando el siguiente formato: Tipo-Numero. Utilice las letras T para tréboles, C para corazones, P para picas y E para espadas. Para los números utilice la numeración del 1 al 13. \n",
    "Por ejemplo E13 - sería Rey de Espadas, P01 sería As de Picas, T05 sería cinco de Tréboles"
   ]
  },
  {
   "cell_type": "code",
   "execution_count": 205,
   "metadata": {},
   "outputs": [],
   "source": [
    "def baraja_pocker():\n",
    "    baraja = set()\n",
    "    tipo = ['T','C','P','E']\n",
    "    numero = ['01','02','03','04','05','06','07','08','09','10','11','12','13']\n",
    "    for eltipo in tipo:\n",
    "        for elnumero in numero:\n",
    "            nombrecarta = eltipo + elnumero\n",
    "            baraja.add(nombrecarta)\n",
    "    print(\"Cartas por tipo-Número\")\n",
    "    print(baraja)\n",
    "    return baraja"
   ]
  },
  {
   "cell_type": "code",
   "execution_count": 206,
   "metadata": {},
   "outputs": [
    {
     "name": "stdout",
     "output_type": "stream",
     "text": [
      "Cartas por tipo-Número\n",
      "{'E05', 'E09', 'E13', 'E03', 'T05', 'P07', 'T06', 'C05', 'T12', 'T03', 'P11', 'P04', 'C12', 'C08', 'P09', 'T04', 'P06', 'E04', 'C02', 'P10', 'E02', 'E07', 'P01', 'E10', 'E12', 'C13', 'C07', 'T01', 'C03', 'E01', 'C01', 'T10', 'T09', 'P02', 'E08', 'C04', 'P13', 'T07', 'T13', 'C10', 'E06', 'T02', 'P03', 'E11', 'P05', 'P12', 'C06', 'T11', 'P08', 'T08', 'C11', 'C09'}\n"
     ]
    }
   ],
   "source": [
    "TipoNumero = baraja_pocker()"
   ]
  },
  {
   "attachments": {},
   "cell_type": "markdown",
   "metadata": {},
   "source": [
    "### **(B)**\n",
    "Posteriormente cree una función que dado el conjunto anterior cree dos sets nuevos de cartas, cada conjunto debe tener una cantidad variable de elementos, puede utilizar números aleatorios enteros para definir la longitud de los conjuntos."
   ]
  },
  {
   "cell_type": "code",
   "execution_count": 210,
   "metadata": {},
   "outputs": [],
   "source": [
    "import random\n",
    "\n",
    "def conjuntos_aleatorios(TipoNumero, n):\n",
    "    lista_cartas = list(TipoNumero)\n",
    "    conjunto1 = set(random.sample(lista_cartas, n))\n",
    "    conjunto2 = TipoNumero - conjunto1\n",
    "\n",
    "    print(\"Conjunto 1:\")\n",
    "    print(conjunto1)\n",
    "\n",
    "    print(\"Conjunto 2:\")\n",
    "    print(conjunto2)\n",
    "\n",
    "    return conjunto1, conjunto2"
   ]
  },
  {
   "cell_type": "code",
   "execution_count": 212,
   "metadata": {},
   "outputs": [
    {
     "name": "stdout",
     "output_type": "stream",
     "text": [
      "Conjunto 1:\n",
      "{'E13', 'E03', 'T05', 'P07', 'T06', 'C05', 'T03', 'P11', 'P04', 'P09', 'C02', 'E07', 'C13', 'C01', 'T10', 'T09', 'E08', 'E11', 'E06', 'C10', 'T02', 'C06', 'T11', 'P08', 'C11', 'C09'}\n",
      "Conjunto 2:\n",
      "{'E05', 'E09', 'T12', 'C12', 'C08', 'T04', 'P06', 'E04', 'P10', 'E02', 'P01', 'E10', 'E12', 'C07', 'T01', 'C03', 'E01', 'P02', 'C04', 'T07', 'T13', 'P03', 'P05', 'P12', 'T08', 'P13'}\n"
     ]
    }
   ],
   "source": [
    "conjuntoNuevo1,conjuntoNuevo2 = conjuntos_aleatorios(TipoNumero, 26)"
   ]
  },
  {
   "attachments": {},
   "cell_type": "markdown",
   "metadata": {},
   "source": [
    "### **(C)** \n",
    "Probabilidad de la intersección de ambos conjuntos "
   ]
  },
  {
   "cell_type": "code",
   "execution_count": 213,
   "metadata": {},
   "outputs": [],
   "source": [
    "def probabilidad_interseccion(baraja, conjuntoNuevo1, conjuntoNuevo2):\n",
    "    # Calcular la probabilidad del conjunto 1\n",
    "    prob_conjunto1 = len(conjuntoNuevo1) / len(baraja)\n",
    "    \n",
    "    # Calcular la probabilidad del conjunto 2 dado el conjunto 1\n",
    "    cartas_restantes = baraja - conjuntoNuevo1\n",
    "    cartas_no_en_conjunto1 = conjuntoNuevo2 - conjuntoNuevo1\n",
    "    prob_conjunto2_dado_conjunto1 = len(cartas_no_en_conjunto1) / len(cartas_restantes)\n",
    "    \n",
    "    # Calcular la probabilidad de la intersección\n",
    "    prob_interseccion = prob_conjunto1 * prob_conjunto2_dado_conjunto1\n",
    "    print(\"La probabilidad de interseccion es:\")\n",
    "    print(prob_interseccion)\n",
    "    return prob_interseccion"
   ]
  },
  {
   "cell_type": "code",
   "execution_count": 214,
   "metadata": {},
   "outputs": [
    {
     "name": "stdout",
     "output_type": "stream",
     "text": [
      "La probabilidad de interseccion es:\n",
      "0.5\n"
     ]
    }
   ],
   "source": [
    "probabilidad = probabilidad_interseccion(TipoNumero, conjuntoNuevo1, conjuntoNuevo2)\n",
    "#print(probabilidad)"
   ]
  },
  {
   "attachments": {},
   "cell_type": "markdown",
   "metadata": {},
   "source": [
    "### **(D)**\n",
    "Independecia de los conjuntos"
   ]
  },
  {
   "cell_type": "code",
   "execution_count": 215,
   "metadata": {},
   "outputs": [],
   "source": [
    "def Probabilidad_independencia(TipoNumero, conjuntoNuevo1, conjuntoNuevo2):\n",
    "    # Calcular las probabilidades individuales\n",
    "    prob_conjunto1 = len(conjuntoNuevo1) / len(TipoNumero)\n",
    "    prob_conjunto2 = len(conjuntoNuevo2) / len(TipoNumero)\n",
    "    \n",
    "    # Calcular la probabilidad de la intersección\n",
    "    prob_interseccion = probabilidad_interseccion(TipoNumero, conjuntoNuevo1, conjuntoNuevo2)\n",
    "    \n",
    "    # Verificar si los eventos son independientes\n",
    "    if abs(prob_interseccion - (prob_conjunto1 * prob_conjunto2)) < 1e-6:\n",
    "        print(\"Los eventos son independientes\")\n",
    "    else:\n",
    "        print(\"Los eventos no son independientes\")"
   ]
  },
  {
   "cell_type": "code",
   "execution_count": 217,
   "metadata": {},
   "outputs": [
    {
     "name": "stdout",
     "output_type": "stream",
     "text": [
      "La probabilidad de interseccion es:\n",
      "0.5\n",
      "Los eventos no son independientes\n"
     ]
    }
   ],
   "source": [
    "independencia = Probabilidad_independencia(TipoNumero, conjuntoNuevo1, conjuntoNuevo2)"
   ]
  },
  {
   "attachments": {},
   "cell_type": "markdown",
   "metadata": {},
   "source": [
    "### **(E)**\n",
    "Probabilidad de union"
   ]
  },
  {
   "cell_type": "code",
   "execution_count": 220,
   "metadata": {},
   "outputs": [],
   "source": [
    "def probabilidad_union(TipoNumero, conjuntoNuevo1, conjuntoNuevo2):\n",
    "    # Calcular la probabilidad del conjunto 1\n",
    "    prob_conjunto1 = len(conjuntoNuevo1) / len(TipoNumero)\n",
    "    \n",
    "    # Calcular la probabilidad del conjunto 2\n",
    "    prob_conjunto2 = len(conjuntoNuevo2) / len(TipoNumero)\n",
    "    \n",
    "    # Calcular la probabilidad de la intersección\n",
    "    prob_interseccion = probabilidad_interseccion(TipoNumero, conjuntoNuevo1, conjuntoNuevo2)\n",
    "    \n",
    "    # Calcular la probabilidad de la unión\n",
    "    prob_union = prob_conjunto1 + prob_conjunto2 - prob_interseccion\n",
    "    print(\"La probabilidad de Union es:\")\n",
    "    print(prob_union)\n",
    "\n",
    "    return prob_union"
   ]
  },
  {
   "cell_type": "code",
   "execution_count": 221,
   "metadata": {},
   "outputs": [
    {
     "name": "stdout",
     "output_type": "stream",
     "text": [
      "La probabilidad de interseccion es:\n",
      "0.5\n",
      "La probabilidad de Union es:\n",
      "0.5\n"
     ]
    }
   ],
   "source": [
    "probabilidadUnion = probabilidad_union(TipoNumero, conjuntoNuevo1, conjuntoNuevo2)"
   ]
  },
  {
   "attachments": {},
   "cell_type": "markdown",
   "metadata": {},
   "source": [
    "### **(F)**\n",
    "Demostrar que se cumple la regla de la adición."
   ]
  },
  {
   "cell_type": "code",
   "execution_count": 222,
   "metadata": {},
   "outputs": [],
   "source": [
    "def adicion(TipoNumero, conjuntoNuevo1, conjuntoNuevo2):\n",
    "    # Calcular la probabilidad de la unión\n",
    "    prob_union = probabilidad_union(TipoNumero, conjuntoNuevo1, conjuntoNuevo2)\n",
    "    \n",
    "    # Calcular la probabilidad del conjunto 1\n",
    "    prob_conjunto1 = len(conjuntoNuevo1) / len(TipoNumero)\n",
    "    \n",
    "    # Calcular la probabilidad del conjunto 2\n",
    "    prob_conjunto2 = len(conjuntoNuevo2) / len(TipoNumero)\n",
    "    \n",
    "    # Calcular la probabilidad de la intersección\n",
    "    prob_interseccion = probabilidad_interseccion(TipoNumero, conjuntoNuevo1, conjuntoNuevo2)\n",
    "    \n",
    "    # Verificar si se cumple la regla de la adición\n",
    "    if abs(prob_union - (prob_conjunto1 + prob_conjunto2 - prob_interseccion)) < 1e-6:\n",
    "        print(\"Se cumple la regla de la adición\")\n",
    "    else:\n",
    "        print(\"No se cumple la regla de la adición\")"
   ]
  },
  {
   "cell_type": "code",
   "execution_count": 224,
   "metadata": {},
   "outputs": [
    {
     "name": "stdout",
     "output_type": "stream",
     "text": [
      "La probabilidad de interseccion es:\n",
      "0.5\n",
      "La probabilidad de Union es:\n",
      "0.5\n",
      "La probabilidad de interseccion es:\n",
      "0.5\n",
      "Se cumple la regla de la adición\n"
     ]
    }
   ],
   "source": [
    "adicion = adicion(TipoNumero, conjuntoNuevo1, conjuntoNuevo2)"
   ]
  }
 ],
 "metadata": {
  "kernelspec": {
   "display_name": "base",
   "language": "python",
   "name": "python3"
  },
  "language_info": {
   "codemirror_mode": {
    "name": "ipython",
    "version": 3
   },
   "file_extension": ".py",
   "mimetype": "text/x-python",
   "name": "python",
   "nbconvert_exporter": "python",
   "pygments_lexer": "ipython3",
   "version": "3.9.13"
  },
  "orig_nbformat": 4,
  "vscode": {
   "interpreter": {
    "hash": "4e1cab4146791c323fbfaa6158a0a992958d60dd956769267b5c891c2a5a9b2d"
   }
  }
 },
 "nbformat": 4,
 "nbformat_minor": 2
}
